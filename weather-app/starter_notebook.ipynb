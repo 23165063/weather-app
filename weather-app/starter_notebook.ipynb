{
  "cells": [
    {
      "cell_type": "markdown",
      "metadata": {
        "colab_type": "text",
        "id": "view-in-github"
      },
      "source": [
        "<a href=\"https://colab.research.google.com/github/michael-borck/weatherwise-template/blob/main/starter_notebook.ipynb\" target=\"_parent\"><img src=\"https://colab.research.google.com/assets/colab-badge.svg\" alt=\"Open In Colab\"/></a>"
      ]
    },
    {
      "cell_type": "markdown",
      "id": "72e78a05",
      "metadata": {
        "id": "72e78a05"
      },
      "source": [
        "# 🌦️ WeatherWise – Starter Notebook\n",
        "\n",
        "Welcome to your **WeatherWise** project notebook! This scaffold is designed to help you build your weather advisor app using Python, visualisations, and AI-enhanced development.\n",
        "\n",
        "---\n",
        "\n",
        "📄 **Full Assignment Specification**  \n",
        "See [`ASSIGNMENT.md`](ASSIGNMENT.md) or check the LMS for full details.\n",
        "\n",
        "📝 **Quick Refresher**  \n",
        "A one-page summary is available in [`resources/assignment-summary.md`](resources/assignment-summary.md).\n",
        "\n",
        "---\n",
        "\n",
        "🧠 **This Notebook Structure is Optional**  \n",
        "You’re encouraged to reorganise, rename sections, or remove scaffold cells if you prefer — as long as your final version meets the requirements.\n",
        "\n",
        "✅ You may delete this note before submission.\n",
        "\n"
      ]
    },
    {
      "cell_type": "markdown",
      "id": "fa8c7f6c",
      "metadata": {
        "id": "fa8c7f6c"
      },
      "source": [
        "## 🧰 Setup and Imports\n",
        "\n",
        "This section imports commonly used packages and installs any additional tools used in the project.\n",
        "\n",
        "- You may not need all of these unless you're using specific features (e.g. visualisations, advanced prompting).\n",
        "- The notebook assumes the following packages are **pre-installed** in the provided environment or installable via pip:\n",
        "  - `requests`, `matplotlib`, `pyinputplus`\n",
        "  - `fetch-my-weather` (for accessing weather data easily)\n",
        "  - `hands-on-ai` (for AI logging, comparisons, or prompting tools)\n",
        "\n",
        "If you're running this notebook in **Google Colab**, uncomment the following lines to install the required packages.\n"
      ]
    },
    {
      "cell_type": "code",
      "execution_count": 1,
      "id": "70c3f3f1",
      "metadata": {
        "id": "70c3f3f1"
      },
      "outputs": [
        {
          "name": "stdout",
          "output_type": "stream",
          "text": [
            "Collecting fetch-my-weather\n",
            "  Downloading fetch_my_weather-0.4.0-py3-none-any.whl.metadata (12 kB)\n",
            "Requirement already satisfied: requests>=2.25.0 in c:\\users\\issak\\.conda\\envs\\my_env\\lib\\site-packages (from fetch-my-weather) (2.32.3)\n",
            "Collecting pydantic>=1.8.0 (from fetch-my-weather)\n",
            "  Downloading pydantic-2.11.4-py3-none-any.whl.metadata (66 kB)\n",
            "Collecting annotated-types>=0.6.0 (from pydantic>=1.8.0->fetch-my-weather)\n",
            "  Downloading annotated_types-0.7.0-py3-none-any.whl.metadata (15 kB)\n",
            "Collecting pydantic-core==2.33.2 (from pydantic>=1.8.0->fetch-my-weather)\n",
            "  Downloading pydantic_core-2.33.2-cp311-cp311-win_amd64.whl.metadata (6.9 kB)\n",
            "Requirement already satisfied: typing-extensions>=4.12.2 in c:\\users\\issak\\.conda\\envs\\my_env\\lib\\site-packages (from pydantic>=1.8.0->fetch-my-weather) (4.12.2)\n",
            "Collecting typing-inspection>=0.4.0 (from pydantic>=1.8.0->fetch-my-weather)\n",
            "  Downloading typing_inspection-0.4.1-py3-none-any.whl.metadata (2.6 kB)\n",
            "Requirement already satisfied: charset-normalizer<4,>=2 in c:\\users\\issak\\.conda\\envs\\my_env\\lib\\site-packages (from requests>=2.25.0->fetch-my-weather) (3.3.2)\n",
            "Requirement already satisfied: idna<4,>=2.5 in c:\\users\\issak\\.conda\\envs\\my_env\\lib\\site-packages (from requests>=2.25.0->fetch-my-weather) (3.10)\n",
            "Requirement already satisfied: urllib3<3,>=1.21.1 in c:\\users\\issak\\.conda\\envs\\my_env\\lib\\site-packages (from requests>=2.25.0->fetch-my-weather) (2.2.3)\n",
            "Requirement already satisfied: certifi>=2017.4.17 in c:\\users\\issak\\.conda\\envs\\my_env\\lib\\site-packages (from requests>=2.25.0->fetch-my-weather) (2024.8.30)\n",
            "Downloading fetch_my_weather-0.4.0-py3-none-any.whl (17 kB)\n",
            "Downloading pydantic-2.11.4-py3-none-any.whl (443 kB)\n",
            "Downloading pydantic_core-2.33.2-cp311-cp311-win_amd64.whl (2.0 MB)\n",
            "   ---------------------------------------- 0.0/2.0 MB ? eta -:--:--\n",
            "   ---------------- ----------------------- 0.8/2.0 MB 4.2 MB/s eta 0:00:01\n",
            "   ---------------------------------------- 2.0/2.0 MB 6.4 MB/s eta 0:00:00\n",
            "Downloading annotated_types-0.7.0-py3-none-any.whl (13 kB)\n",
            "Downloading typing_inspection-0.4.1-py3-none-any.whl (14 kB)\n",
            "Installing collected packages: typing-inspection, pydantic-core, annotated-types, pydantic, fetch-my-weather\n",
            "Successfully installed annotated-types-0.7.0 fetch-my-weather-0.4.0 pydantic-2.11.4 pydantic-core-2.33.2 typing-inspection-0.4.1\n",
            "Collecting hands-on-ai\n",
            "  Downloading hands_on_ai-0.1.10-py3-none-any.whl.metadata (4.7 kB)\n",
            "Requirement already satisfied: requests in c:\\users\\issak\\.conda\\envs\\my_env\\lib\\site-packages (from hands-on-ai) (2.32.3)\n",
            "Collecting typer (from hands-on-ai)\n",
            "  Downloading typer-0.15.4-py3-none-any.whl.metadata (15 kB)\n",
            "Collecting python-fasthtml (from hands-on-ai)\n",
            "  Downloading python_fasthtml-0.12.18-py3-none-any.whl.metadata (9.3 kB)\n",
            "Collecting python-docx (from hands-on-ai)\n",
            "  Downloading python_docx-1.1.2-py3-none-any.whl.metadata (2.0 kB)\n",
            "Collecting pymupdf (from hands-on-ai)\n",
            "  Downloading pymupdf-1.25.5-cp39-abi3-win_amd64.whl.metadata (3.4 kB)\n",
            "Requirement already satisfied: scikit-learn in c:\\users\\issak\\.conda\\envs\\my_env\\lib\\site-packages (from hands-on-ai) (1.6.1)\n",
            "Requirement already satisfied: numpy in c:\\users\\issak\\.conda\\envs\\my_env\\lib\\site-packages (from hands-on-ai) (2.2.2)\n",
            "Collecting lxml>=3.1.0 (from python-docx->hands-on-ai)\n",
            "  Downloading lxml-5.4.0-cp311-cp311-win_amd64.whl.metadata (3.6 kB)\n",
            "Requirement already satisfied: typing-extensions>=4.9.0 in c:\\users\\issak\\.conda\\envs\\my_env\\lib\\site-packages (from python-docx->hands-on-ai) (4.12.2)\n",
            "Collecting fastcore>=1.8.1 (from python-fasthtml->hands-on-ai)\n",
            "  Downloading fastcore-1.8.2-py3-none-any.whl.metadata (3.7 kB)\n",
            "Requirement already satisfied: python-dateutil in c:\\users\\issak\\.conda\\envs\\my_env\\lib\\site-packages (from python-fasthtml->hands-on-ai) (2.9.0.post0)\n",
            "Collecting starlette>0.33 (from python-fasthtml->hands-on-ai)\n",
            "  Downloading starlette-0.46.2-py3-none-any.whl.metadata (6.2 kB)\n",
            "Collecting oauthlib (from python-fasthtml->hands-on-ai)\n",
            "  Downloading oauthlib-3.2.2-py3-none-any.whl.metadata (7.5 kB)\n",
            "Requirement already satisfied: itsdangerous in c:\\users\\issak\\.conda\\envs\\my_env\\lib\\site-packages (from python-fasthtml->hands-on-ai) (2.2.0)\n",
            "Collecting uvicorn>=0.30 (from uvicorn[standard]>=0.30->python-fasthtml->hands-on-ai)\n",
            "  Downloading uvicorn-0.34.2-py3-none-any.whl.metadata (6.5 kB)\n",
            "Requirement already satisfied: httpx in c:\\users\\issak\\.conda\\envs\\my_env\\lib\\site-packages (from python-fasthtml->hands-on-ai) (0.27.0)\n",
            "Collecting fastlite>=0.1.1 (from python-fasthtml->hands-on-ai)\n",
            "  Downloading fastlite-0.1.3-py3-none-any.whl.metadata (11 kB)\n",
            "Collecting python-multipart (from python-fasthtml->hands-on-ai)\n",
            "  Downloading python_multipart-0.0.20-py3-none-any.whl.metadata (1.8 kB)\n",
            "Requirement already satisfied: beautifulsoup4 in c:\\users\\issak\\.conda\\envs\\my_env\\lib\\site-packages (from python-fasthtml->hands-on-ai) (4.12.3)\n",
            "Requirement already satisfied: charset-normalizer<4,>=2 in c:\\users\\issak\\.conda\\envs\\my_env\\lib\\site-packages (from requests->hands-on-ai) (3.3.2)\n",
            "Requirement already satisfied: idna<4,>=2.5 in c:\\users\\issak\\.conda\\envs\\my_env\\lib\\site-packages (from requests->hands-on-ai) (3.10)\n",
            "Requirement already satisfied: urllib3<3,>=1.21.1 in c:\\users\\issak\\.conda\\envs\\my_env\\lib\\site-packages (from requests->hands-on-ai) (2.2.3)\n",
            "Requirement already satisfied: certifi>=2017.4.17 in c:\\users\\issak\\.conda\\envs\\my_env\\lib\\site-packages (from requests->hands-on-ai) (2024.8.30)\n",
            "Requirement already satisfied: scipy>=1.6.0 in c:\\users\\issak\\.conda\\envs\\my_env\\lib\\site-packages (from scikit-learn->hands-on-ai) (1.15.0)\n",
            "Requirement already satisfied: joblib>=1.2.0 in c:\\users\\issak\\.conda\\envs\\my_env\\lib\\site-packages (from scikit-learn->hands-on-ai) (1.4.2)\n",
            "Requirement already satisfied: threadpoolctl>=3.1.0 in c:\\users\\issak\\.conda\\envs\\my_env\\lib\\site-packages (from scikit-learn->hands-on-ai) (3.5.0)\n",
            "Collecting click<8.2,>=8.0.0 (from typer->hands-on-ai)\n",
            "  Downloading click-8.1.8-py3-none-any.whl.metadata (2.3 kB)\n",
            "Collecting shellingham>=1.3.0 (from typer->hands-on-ai)\n",
            "  Downloading shellingham-1.5.4-py2.py3-none-any.whl.metadata (3.5 kB)\n",
            "Requirement already satisfied: rich>=10.11.0 in c:\\users\\issak\\.conda\\envs\\my_env\\lib\\site-packages (from typer->hands-on-ai) (13.9.4)\n",
            "Requirement already satisfied: colorama in c:\\users\\issak\\.conda\\envs\\my_env\\lib\\site-packages (from click<8.2,>=8.0.0->typer->hands-on-ai) (0.4.6)\n",
            "Requirement already satisfied: packaging in c:\\users\\issak\\.conda\\envs\\my_env\\lib\\site-packages (from fastcore>=1.8.1->python-fasthtml->hands-on-ai) (24.2)\n",
            "Collecting apswutils>=0.0.2 (from fastlite>=0.1.1->python-fasthtml->hands-on-ai)\n",
            "  Downloading apswutils-0.0.2-py3-none-any.whl.metadata (7.1 kB)\n",
            "Requirement already satisfied: markdown-it-py>=2.2.0 in c:\\users\\issak\\.conda\\envs\\my_env\\lib\\site-packages (from rich>=10.11.0->typer->hands-on-ai) (3.0.0)\n",
            "Requirement already satisfied: pygments<3.0.0,>=2.13.0 in c:\\users\\issak\\.conda\\envs\\my_env\\lib\\site-packages (from rich>=10.11.0->typer->hands-on-ai) (2.15.1)\n",
            "Requirement already satisfied: anyio<5,>=3.6.2 in c:\\users\\issak\\.conda\\envs\\my_env\\lib\\site-packages (from starlette>0.33->python-fasthtml->hands-on-ai) (4.6.2)\n",
            "Requirement already satisfied: h11>=0.8 in c:\\users\\issak\\.conda\\envs\\my_env\\lib\\site-packages (from uvicorn>=0.30->uvicorn[standard]>=0.30->python-fasthtml->hands-on-ai) (0.14.0)\n",
            "Collecting httptools>=0.6.3 (from uvicorn[standard]>=0.30->python-fasthtml->hands-on-ai)\n",
            "  Downloading httptools-0.6.4-cp311-cp311-win_amd64.whl.metadata (3.7 kB)\n",
            "Collecting python-dotenv>=0.13 (from uvicorn[standard]>=0.30->python-fasthtml->hands-on-ai)\n",
            "  Downloading python_dotenv-1.1.0-py3-none-any.whl.metadata (24 kB)\n",
            "Requirement already satisfied: pyyaml>=5.1 in c:\\users\\issak\\.conda\\envs\\my_env\\lib\\site-packages (from uvicorn[standard]>=0.30->python-fasthtml->hands-on-ai) (6.0.2)\n",
            "Collecting watchfiles>=0.13 (from uvicorn[standard]>=0.30->python-fasthtml->hands-on-ai)\n",
            "  Downloading watchfiles-1.0.5-cp311-cp311-win_amd64.whl.metadata (5.0 kB)\n",
            "Requirement already satisfied: websockets>=10.4 in c:\\users\\issak\\.conda\\envs\\my_env\\lib\\site-packages (from uvicorn[standard]>=0.30->python-fasthtml->hands-on-ai) (14.1)\n",
            "Requirement already satisfied: soupsieve>1.2 in c:\\users\\issak\\.conda\\envs\\my_env\\lib\\site-packages (from beautifulsoup4->python-fasthtml->hands-on-ai) (2.5)\n",
            "Requirement already satisfied: httpcore==1.* in c:\\users\\issak\\.conda\\envs\\my_env\\lib\\site-packages (from httpx->python-fasthtml->hands-on-ai) (1.0.2)\n",
            "Requirement already satisfied: sniffio in c:\\users\\issak\\.conda\\envs\\my_env\\lib\\site-packages (from httpx->python-fasthtml->hands-on-ai) (1.3.0)\n",
            "Requirement already satisfied: six>=1.5 in c:\\users\\issak\\.conda\\envs\\my_env\\lib\\site-packages (from python-dateutil->python-fasthtml->hands-on-ai) (1.16.0)\n",
            "Collecting apsw (from apswutils>=0.0.2->fastlite>=0.1.1->python-fasthtml->hands-on-ai)\n",
            "  Downloading apsw-3.49.2.0-cp311-cp311-win_amd64.whl.metadata (3.8 kB)\n",
            "Requirement already satisfied: mdurl~=0.1 in c:\\users\\issak\\.conda\\envs\\my_env\\lib\\site-packages (from markdown-it-py>=2.2.0->rich>=10.11.0->typer->hands-on-ai) (0.1.2)\n",
            "Downloading hands_on_ai-0.1.10-py3-none-any.whl (132 kB)\n",
            "Downloading pymupdf-1.25.5-cp39-abi3-win_amd64.whl (16.6 MB)\n",
            "   ---------------------------------------- 0.0/16.6 MB ? eta -:--:--\n",
            "    --------------------------------------- 0.3/16.6 MB ? eta -:--:--\n",
            "   -- ------------------------------------- 1.0/16.6 MB 3.6 MB/s eta 0:00:05\n",
            "   -------- ------------------------------- 3.7/16.6 MB 7.5 MB/s eta 0:00:02\n",
            "   ------------------------- -------------- 10.5/16.6 MB 15.9 MB/s eta 0:00:01\n",
            "   ---------------------------------------- 16.6/16.6 MB 21.3 MB/s eta 0:00:00\n",
            "Downloading python_docx-1.1.2-py3-none-any.whl (244 kB)\n",
            "Downloading python_fasthtml-0.12.18-py3-none-any.whl (69 kB)\n",
            "Downloading typer-0.15.4-py3-none-any.whl (45 kB)\n",
            "Downloading click-8.1.8-py3-none-any.whl (98 kB)\n",
            "Downloading fastcore-1.8.2-py3-none-any.whl (78 kB)\n",
            "Downloading fastlite-0.1.3-py3-none-any.whl (17 kB)\n",
            "Downloading lxml-5.4.0-cp311-cp311-win_amd64.whl (3.8 MB)\n",
            "   ---------------------------------------- 0.0/3.8 MB ? eta -:--:--\n",
            "   ---------------------------------------- 3.8/3.8 MB 75.6 MB/s eta 0:00:00\n",
            "Downloading shellingham-1.5.4-py2.py3-none-any.whl (9.8 kB)\n",
            "Downloading starlette-0.46.2-py3-none-any.whl (72 kB)\n",
            "Downloading uvicorn-0.34.2-py3-none-any.whl (62 kB)\n",
            "Downloading oauthlib-3.2.2-py3-none-any.whl (151 kB)\n",
            "Downloading python_multipart-0.0.20-py3-none-any.whl (24 kB)\n",
            "Downloading apswutils-0.0.2-py3-none-any.whl (80 kB)\n",
            "Downloading httptools-0.6.4-cp311-cp311-win_amd64.whl (88 kB)\n",
            "Downloading python_dotenv-1.1.0-py3-none-any.whl (20 kB)\n",
            "Downloading watchfiles-1.0.5-cp311-cp311-win_amd64.whl (291 kB)\n",
            "Downloading apsw-3.49.2.0-cp311-cp311-win_amd64.whl (1.7 MB)\n",
            "   ---------------------------------------- 0.0/1.7 MB ? eta -:--:--\n",
            "   ------------------------- -------------- 1.0/1.7 MB 52.4 MB/s eta 0:00:01\n",
            "   ---------------------------------------- 1.7/1.7 MB 6.0 MB/s eta 0:00:00\n",
            "Installing collected packages: shellingham, python-multipart, python-dotenv, pymupdf, oauthlib, lxml, httptools, fastcore, click, apsw, watchfiles, uvicorn, starlette, python-docx, apswutils, typer, fastlite, python-fasthtml, hands-on-ai\n",
            "  Attempting uninstall: click\n",
            "    Found existing installation: click 8.2.0\n",
            "    Uninstalling click-8.2.0:\n",
            "      Successfully uninstalled click-8.2.0\n",
            "Successfully installed apsw-3.49.2.0 apswutils-0.0.2 click-8.1.8 fastcore-1.8.2 fastlite-0.1.3 hands-on-ai-0.1.10 httptools-0.6.4 lxml-5.4.0 oauthlib-3.2.2 pymupdf-1.25.5 python-docx-1.1.2 python-dotenv-1.1.0 python-fasthtml-0.12.18 python-multipart-0.0.20 shellingham-1.5.4 starlette-0.46.2 typer-0.15.4 uvicorn-0.34.2 watchfiles-1.0.5\n"
          ]
        }
      ],
      "source": [
        "# 🧪 Optional packages — uncomment if needed in Colab or JupyterHub\n",
        "!pip install fetch-my-weather\n",
        "!pip install hands-on-ai\n"
      ]
    },
    {
      "cell_type": "code",
      "execution_count": null,
      "id": "B2JKlJfrGgIb",
      "metadata": {
        "id": "B2JKlJfrGgIb"
      },
      "outputs": [],
      "source": [
        "import os\n",
        "\n",
        "#  Testing ai api key: student-api-key-123\n",
        "os.environ['HANDS_ON_AI_SERVER'] = 'http://ollama.serveur.au'\n",
        "os.environ['HANDS_ON_AI_MODEL'] = 'granite3.2'\n",
        "os.environ['HANDS_ON_AI_API_KEY'] = input('Enter your API key: ')"
      ]
    },
    {
      "cell_type": "markdown",
      "id": "59ae7543",
      "metadata": {
        "id": "59ae7543"
      },
      "source": [
        "## 📦 Setup and Configuration\n",
        "Import required packages and setup environment."
      ]
    },
    {
      "cell_type": "code",
      "execution_count": null,
      "id": "f1dd051e",
      "metadata": {
        "id": "f1dd051e"
      },
      "outputs": [],
      "source": [
        "import requests\n",
        "import matplotlib.pyplot as plt\n",
        "import pyinputplus as pyip\n",
        "# ✅ Import after installing (if needed)\n",
        "from fetch_my_weather import get_weather\n",
        "from hands_on_ai.chat import get_response\n",
        "\n",
        "# Add any other setup code here\n",
        "\n",
        "import json\n",
        "\n",
        "from datetime import datetime, timedelta"
      ]
    },
    {
      "cell_type": "markdown",
      "id": "f736ade3",
      "metadata": {
        "id": "f736ade3"
      },
      "source": [
        "## 🌤️ Weather Data Functions"
      ]
    },
    {
      "cell_type": "code",
      "execution_count": null,
      "id": "7a2c7cd0",
      "metadata": {
        "id": "7a2c7cd0"
      },
      "outputs": [],
      "source": [
        "# Define get_weather_data() function here\n",
        "def get_weather_data(location, forecast_days=5):\n",
        "    \"\"\"\n",
        "    Retrieve weather data for a specified location.\n",
        "\n",
        "    Args:\n",
        "        location (str): City or location name\n",
        "        forecast_days (int): Number of days to forecast (1-5)\n",
        "\n",
        "    Returns:\n",
        "        dict: Weather data including current conditions and forecast\n",
        "    \"\"\"\n",
        "    pass"
      ]
    },
    {
      "cell_type": "markdown",
      "id": "8a744fdc",
      "metadata": {
        "id": "8a744fdc"
      },
      "source": [
        "## 📊 Visualisation Functions"
      ]
    },
    {
      "cell_type": "code",
      "execution_count": null,
      "id": "9dc3bf85",
      "metadata": {
        "id": "9dc3bf85"
      },
      "outputs": [],
      "source": [
        "# Define create_temperature_visualisation() and create_precipitation_visualisation() here\n",
        "def create_temperature_visualisation(weather_data, output_type='display'):\n",
        "    \"\"\"\n",
        "    Create visualisation of temperature data.\n",
        "\n",
        "    Args:\n",
        "        weather_data (dict): The processed weather data\n",
        "        output_type (str): Either 'display' to show in notebook or 'figure' to return the figure\n",
        "\n",
        "    Returns:\n",
        "        If output_type is 'figure', returns the matplotlib figure object\n",
        "        Otherwise, displays the visualisation in the notebook\n",
        "    \"\"\"\n",
        "    pass\n"
      ]
    },
    {
      "cell_type": "code",
      "execution_count": null,
      "id": "HpOlQylYG5Ho",
      "metadata": {
        "id": "HpOlQylYG5Ho"
      },
      "outputs": [],
      "source": [
        "\n",
        "def create_precipitation_visualisation(weather_data, output_type='display'):\n",
        "    \"\"\"\n",
        "    Create visualisation of precipitation data.\n",
        "\n",
        "    Args:\n",
        "        weather_data (dict): The processed weather data\n",
        "        output_type (str): Either 'display' to show in notebook or 'figure' to return the figure\n",
        "\n",
        "    Returns:\n",
        "        If output_type is 'figure', returns the matplotlib figure object\n",
        "        Otherwise, displays the visualisation in the notebook\n",
        "    \"\"\"\n",
        "    pass"
      ]
    },
    {
      "cell_type": "markdown",
      "id": "9f95d160",
      "metadata": {
        "id": "9f95d160"
      },
      "source": [
        "## 🤖 Natural Language Processing"
      ]
    },
    {
      "cell_type": "code",
      "execution_count": null,
      "id": "bcc5833e",
      "metadata": {
        "id": "bcc5833e"
      },
      "outputs": [],
      "source": [
        "# Define parse_weather_question() and generate_weather_response() here\n",
        "def parse_weather_question(question):\n",
        "    \"\"\"\n",
        "    Parse a natural language weather question.\n",
        "\n",
        "    Args:\n",
        "        question (str): User's weather-related question\n",
        "\n",
        "    Returns:\n",
        "        dict: Extracted information including location, time period, and weather attribute\n",
        "    \"\"\"\n",
        "    pass"
      ]
    },
    {
      "cell_type": "markdown",
      "id": "0d85225e",
      "metadata": {
        "id": "0d85225e"
      },
      "source": [
        "## 🧭 User Interface"
      ]
    },
    {
      "cell_type": "code",
      "execution_count": null,
      "id": "fa6cb0f6",
      "metadata": {
        "id": "fa6cb0f6"
      },
      "outputs": [],
      "source": [
        "# Define menu functions using pyinputplus or ipywidgets here"
      ]
    },
    {
      "cell_type": "markdown",
      "id": "d643a53c",
      "metadata": {
        "id": "d643a53c"
      },
      "source": [
        "## 🧩 Main Application Logic"
      ]
    },
    {
      "cell_type": "code",
      "execution_count": null,
      "id": "a9e2e805",
      "metadata": {
        "id": "a9e2e805"
      },
      "outputs": [],
      "source": [
        "# Tie everything together here\n",
        "def generate_weather_response(parsed_question, weather_data):\n",
        "    \"\"\"\n",
        "    Generate a natural language response to a weather question.\n",
        "\n",
        "    Args:\n",
        "        parsed_question (dict): Parsed question data\n",
        "        weather_data (dict): Weather data\n",
        "\n",
        "    Returns:\n",
        "        str: Natural language response\n",
        "    \"\"\"\n",
        "    pass"
      ]
    },
    {
      "cell_type": "markdown",
      "id": "fde44479",
      "metadata": {
        "id": "fde44479"
      },
      "source": [
        "## 🧪 Testing and Examples"
      ]
    },
    {
      "cell_type": "code",
      "execution_count": null,
      "id": "4e573901",
      "metadata": {
        "id": "4e573901"
      },
      "outputs": [],
      "source": [
        "# Include sample input/output for each function"
      ]
    },
    {
      "cell_type": "markdown",
      "id": "d2885880",
      "metadata": {
        "id": "d2885880"
      },
      "source": [
        "## 🗂️ AI Prompting Log (Optional)\n",
        "Add markdown cells here summarising prompts used or link to AI conversations in the `ai-conversations/` folder."
      ]
    }
  ],
  "metadata": {
    "colab": {
      "include_colab_link": true,
      "provenance": []
    },
    "kernelspec": {
      "display_name": "my_env",
      "language": "python",
      "name": "python3"
    },
    "language_info": {
      "codemirror_mode": {
        "name": "ipython",
        "version": 3
      },
      "file_extension": ".py",
      "mimetype": "text/x-python",
      "name": "python",
      "nbconvert_exporter": "python",
      "pygments_lexer": "ipython3",
      "version": "3.11.11"
    }
  },
  "nbformat": 4,
  "nbformat_minor": 5
}
